{
 "cells": [
  {
   "cell_type": "markdown",
   "id": "b38938b8",
   "metadata": {},
   "source": [
    "# Pyhon ka chilla with baba_Aammar\n",
    "\n",
    "## How to use jupyter notebook\n",
    "\n",
    "### Basics of Pyhton\n",
    "\n",
    "**01_first_program**"
   ]
  },
  {
   "cell_type": "code",
   "execution_count": 1,
   "id": "dfa96831",
   "metadata": {},
   "outputs": [
    {
     "name": "stdout",
     "output_type": "stream",
     "text": [
      "5\n",
      "Hello world\n",
      "We are learning python with aammar\n"
     ]
    }
   ],
   "source": [
    "print(2+3)\n",
    "print(\"Hello world\")\n",
    "print(\"We are learning python with aammar\") "
   ]
  },
  {
   "cell_type": "markdown",
   "id": "7562f23c",
   "metadata": {},
   "source": [
    "**02_oerators**"
   ]
  },
  {
   "cell_type": "code",
   "execution_count": 2,
   "id": "82a58ec9",
   "metadata": {},
   "outputs": [
    {
     "name": "stdout",
     "output_type": "stream",
     "text": [
      "7\n",
      "2\n",
      "3.0\n",
      "30\n",
      "1\n",
      "2\n",
      "6.5\n"
     ]
    }
   ],
   "source": [
    "print(4+3)\n",
    "print(4-2)\n",
    "print(6/2)\n",
    "print(6*5)\n",
    "print(13%12)\n",
    "print(56//23)\n",
    "\n",
    "print(3**2/2*3/3+6-4)\n",
    "\n",
    "# PEMDAS\n",
    "# Parenthesis Exponents Multiply Divide Addition Substraction\n",
    "# left to right for M D & A S"
   ]
  },
  {
   "cell_type": "markdown",
   "id": "03ba9b4e",
   "metadata": {},
   "source": [
    "**03_comments**"
   ]
  },
  {
   "cell_type": "code",
   "execution_count": 3,
   "id": "78506910",
   "metadata": {},
   "outputs": [
    {
     "name": "stdout",
     "output_type": "stream",
     "text": [
      "How are you\n",
      "we are learning python with aamaar\n",
      "8\n"
     ]
    }
   ],
   "source": [
    "print(\"How are you\") #press these button to comment out/in ctrl + /\n",
    "print(\"we are learning python with aamaar\") #print string\n",
    "print(2+6) #print operators function with numbers"
   ]
  },
  {
   "cell_type": "markdown",
   "id": "4489f004",
   "metadata": {},
   "source": [
    "**04_strings**"
   ]
  },
  {
   "cell_type": "code",
   "execution_count": 4,
   "id": "c8d2b610",
   "metadata": {},
   "outputs": [
    {
     "name": "stdout",
     "output_type": "stream",
     "text": [
      "Hello world\n",
      "We are learning python with aammar\n",
      "Test for single quotes\n",
      "test for double quotes\n",
      " test for tripple quotes\n"
     ]
    }
   ],
   "source": [
    "print(\"Hello world\")\n",
    "print(\"We are learning python with aammar\")\n",
    "print('Test for single quotes')\n",
    "print(\"test for double quotes\")\n",
    "print(''' test for tripple quotes''')"
   ]
  },
  {
   "cell_type": "markdown",
   "id": "98b950ae",
   "metadata": {},
   "source": [
    "**05_variables**"
   ]
  },
  {
   "cell_type": "code",
   "execution_count": 5,
   "id": "3d24eaf3",
   "metadata": {},
   "outputs": [
    {
     "name": "stdout",
     "output_type": "stream",
     "text": [
      "5\n",
      "We are learing python with Aammar\n",
      "15\n",
      "<class 'int'>\n",
      "<class 'str'>\n",
      "<class 'str'>\n",
      "Mangoes\n"
     ]
    }
   ],
   "source": [
    "#Variables: objects containing specific values\n",
    "from tkinter import Variable\n",
    "\n",
    "\n",
    "x = 5 # numeric or integer variable\n",
    "print(x)\n",
    "\n",
    "y = \"We are learing python with Aammar\" #string value\n",
    "print(y)\n",
    "\n",
    "x = x + 10 # or x = 15\n",
    "print(x)\n",
    "\n",
    "# types of Variable\n",
    "type(x)\n",
    "print(type(x))\n",
    "\n",
    "print(type(y))\n",
    "\n",
    "#Rules to assign a variable\n",
    "# 1- The variabl should contain letters, number or underscores\n",
    "# 2- Do not start \n",
    "# 3- Spaces are not allowed\n",
    "# 4- Do not use keywords used in function(breake, mean, media, etc)\n",
    "# 5- short and descriptive\n",
    "# 6- Case sensitivity (Lowercase, uppercase letters lower case letter should be used)\n",
    "\n",
    "fruit_basket = 8\n",
    "fruit_basket = \"Mangoes\"\n",
    "print(type(fruit_basket))\n",
    "print(fruit_basket)"
   ]
  },
  {
   "cell_type": "markdown",
   "id": "e32f1265",
   "metadata": {},
   "source": [
    "**06_input_variables**"
   ]
  },
  {
   "cell_type": "code",
   "execution_count": 6,
   "id": "1a16f889",
   "metadata": {},
   "outputs": [
    {
     "name": "stdout",
     "output_type": "stream",
     "text": [
      "what is your name? Bilal\n",
      "How old are you25\n",
      "Hello! Bilal , you ara still young\n"
     ]
    }
   ],
   "source": [
    "# fruit_basket = \"Mangoes\" \n",
    "# print(fruit_basket)\n",
    "\n",
    "# input function simple\n",
    "# fruit_basket = input(\"what is yout favourite fruit? \")\n",
    "# print(fruit_basket)\n",
    "\n",
    "#input function of 2nd name?\n",
    "# name = input(\"What is your name? \")\n",
    "# greetings = \"Hello!\"\n",
    "# print(greetings, name)\n",
    "\n",
    "#another way of stage 2 input fucntion\n",
    "# name = input(\"What is your name? \")\n",
    "# print(\"Hello!\", name)\n",
    "\n",
    "#3rd stage of input function\n",
    "name = input(\"what is your name? \")\n",
    "age = input(\"How old are you\")\n",
    "greetings = \"Hello!\"\n",
    "\n",
    "print(greetings, name, \", you ara still young\")"
   ]
  },
  {
   "cell_type": "markdown",
   "id": "c144b263",
   "metadata": {},
   "source": [
    "**07_condtional_logics**"
   ]
  },
  {
   "cell_type": "code",
   "execution_count": 7,
   "id": "ae907483",
   "metadata": {},
   "outputs": [
    {
     "name": "stdout",
     "output_type": "stream",
     "text": [
      "True\n",
      "False\n",
      "True\n",
      "False\n",
      "True\n",
      "True\n",
      "False\n",
      "How old is Hammad? 4\n",
      "False\n"
     ]
    }
   ],
   "source": [
    "# Logical operators are either true or false or yes or no or 0 or 1\n",
    "# equal to                          ==\n",
    "# not equal                         !=\n",
    "# less than                         <\n",
    "# greater than                      >\n",
    "# less than and equal to            <=\n",
    "# greater than and equal to         >=\n",
    "\n",
    "#is 4 equal to 4\n",
    "print(4==4)\n",
    "print(4!=4)\n",
    "print(4>3)\n",
    "print(3>6)\n",
    "print(3<=5)\n",
    "print(5>=4)\n",
    "\n",
    "#application of logical operators\n",
    "hammad_age = 4\n",
    "age_at_school = 5\n",
    "print(hammad_age==age_at_school)\n",
    "\n",
    "#input function and logical\n",
    "age_at_school = 5\n",
    "hammad_age = input(\"How old is Hammad? \") #input function\n",
    "hammad_age = int(hammad_age)\n",
    "print(hammad_age==age_at_school) #logical operator"
   ]
  },
  {
   "cell_type": "markdown",
   "id": "cf9af98f",
   "metadata": {},
   "source": [
    "**08_type_conversion**"
   ]
  },
  {
   "cell_type": "code",
   "execution_count": 8,
   "id": "29ad8135",
   "metadata": {},
   "outputs": [
    {
     "name": "stdout",
     "output_type": "stream",
     "text": [
      "20.2 Type of is x:  <class 'float'>\n",
      "what is your age? 25\n",
      "25 <class 'int'>\n",
      "what is your name? Bilal\n",
      "Bilal <class 'str'>\n"
     ]
    }
   ],
   "source": [
    "x = 10              #integer\n",
    "y = 10.2            #float    \n",
    "z = \"Hello\"         #string\n",
    "\n",
    "#implicit type conversion\n",
    "x = x+y\n",
    "print(x,\"Type of is x: \", type(x))\n",
    "\n",
    "#explicit type coversion\n",
    "\n",
    "age = input(\"what is your age? \")\n",
    "age = int(age)\n",
    "print(age, type(age))\n",
    "\n",
    "#name\n",
    "name = input(\"what is your name? \")\n",
    "print(name, type(name))"
   ]
  },
  {
   "cell_type": "markdown",
   "id": "c770912d",
   "metadata": {},
   "source": [
    "**09_if_else_elif**"
   ]
  },
  {
   "cell_type": "code",
   "execution_count": 9,
   "id": "7274e81c",
   "metadata": {},
   "outputs": [
    {
     "name": "stdout",
     "output_type": "stream",
     "text": [
      "Hammad should join higher secondary school\n"
     ]
    }
   ],
   "source": [
    "required_age_at_school = 5\n",
    "hammad_age = 10\n",
    "\n",
    "#question: can hammad go to school\n",
    "\n",
    "if hammad_age == required_age_at_school:\n",
    "    print(\"Congratulation! Hammad can join the school\")\n",
    "elif hammad_age > required_age_at_school:\n",
    "    print(\"Hammad should join higher secondary school\")    \n",
    "elif hammad_age <= 2:\n",
    "    print(\"You should take care of Hammad, he is still a baby!\")    \n",
    "else:\n",
    "    print(\"Hammad can not go to school\")"
   ]
  },
  {
   "cell_type": "markdown",
   "id": "777357ca",
   "metadata": {},
   "source": [
    "**10_functions**"
   ]
  },
  {
   "cell_type": "code",
   "execution_count": 10,
   "id": "d0b4537a",
   "metadata": {},
   "outputs": [
    {
     "name": "stdout",
     "output_type": "stream",
     "text": [
      "30\n"
     ]
    }
   ],
   "source": [
    "# defining a function\n",
    "# # 1\n",
    "# def print_codanics():\n",
    "#     print(\"We are learning with Aammar\")\n",
    "#     print(\"We are learning with Aammar\")\n",
    "#     print(\"We are learning with Aammar\")\n",
    "\n",
    "# print_codanics()\n",
    "\n",
    "# # 2\n",
    "# def print_codanics():\n",
    "#     text = \"We are learning with Aammar in codanics youtube channel\" \n",
    "#     print(text)\n",
    "#     print(text)\n",
    "#     print(text)\n",
    "\n",
    "# print_codanics()\n",
    "\n",
    "# # 3\n",
    "# def print_codanics(text):\n",
    "#     print(text)\n",
    "#     print(text)\n",
    "#     print(text)\n",
    "\n",
    "# print_codanics(\"We are learning python with Aammar in codanics youtube channel\")\n",
    "\n",
    "# defining a function with if, elif and else statements\n",
    "\n",
    "# def school_calculator(age):\n",
    "#     if age == 5:\n",
    "#          print(\"Hammad can join the school\")\n",
    "#     elif age>5:\n",
    "#          print(\"Hammad should go to higher school\")\n",
    "#     else:\n",
    "#         print(\"Hammad is still a baby\")\n",
    "\n",
    "# school_calculator(10)\n",
    "\n",
    "#defining a function of future\n",
    "\n",
    "def future_age(age):\n",
    "    new_age = age + 20\n",
    "    return new_age\n",
    "    print(new_age)\n",
    "\n",
    "future_pridicted_age = future_age(10)\n",
    "print(future_pridicted_age)"
   ]
  },
  {
   "cell_type": "markdown",
   "id": "80dfe3f8",
   "metadata": {},
   "source": [
    "**11_loops**"
   ]
  },
  {
   "cell_type": "code",
   "execution_count": 11,
   "id": "5ae0aa2d",
   "metadata": {},
   "outputs": [
    {
     "name": "stdout",
     "output_type": "stream",
     "text": [
      "Mon\n",
      "Tue\n",
      "Wed\n",
      "Thu\n",
      "Sat\n",
      "Sun\n"
     ]
    }
   ],
   "source": [
    "#while and for loops\n",
    "\n",
    "#while loops\n",
    "\n",
    "# x = 0\n",
    "# while x < 10:\n",
    "#     print(x)\n",
    "#     x = x + 1\n",
    "\n",
    "#for loop\n",
    "\n",
    "# for x in range(1,10):\n",
    "#     print(x)\n",
    "\n",
    "\n",
    "# array\n",
    "days = [\"Mon\", \"Tue\", \"Wed\", \"Thu\", \"Fri\", \"Sat\", \"Sun\"]\n",
    "\n",
    "for d in days:\n",
    "    # if (d==\"Fri\"):break #loop stop before \"Fri\"\n",
    "    if (d==\"Fri\"):continue #loop skip the \"Fri\" value\n",
    "    print(d)\n"
   ]
  },
  {
   "cell_type": "markdown",
   "id": "6bfcb34d",
   "metadata": {},
   "source": [
    "**12_import_librarires**"
   ]
  },
  {
   "cell_type": "code",
   "execution_count": 12,
   "id": "adfe16ae",
   "metadata": {},
   "outputs": [
    {
     "name": "stdout",
     "output_type": "stream",
     "text": [
      "The value of pi is  3.141592653589793\n",
      "300\n"
     ]
    }
   ],
   "source": [
    "#if you want to print the value of pi\n",
    "\n",
    "import math\n",
    "print(\"The value of pi is \", math.pi)\n",
    "\n",
    "import statistics \n",
    "\n",
    "x = [150,250,350,450]\n",
    "\n",
    "print(statistics.mean(x))\n",
    "\n",
    "#numpy, pandas etc"
   ]
  },
  {
   "cell_type": "markdown",
   "id": "d43caa93",
   "metadata": {},
   "source": [
    "**13_troulbe_shooting**"
   ]
  },
  {
   "cell_type": "code",
   "execution_count": 13,
   "id": "c96b26c6",
   "metadata": {},
   "outputs": [],
   "source": [
    "#print(we are learning with Aammar) syntax error\n",
    "#print(25/0) runtime error"
   ]
  }
 ],
 "metadata": {
  "kernelspec": {
   "display_name": "Python 3 (ipykernel)",
   "language": "python",
   "name": "python3"
  },
  "language_info": {
   "codemirror_mode": {
    "name": "ipython",
    "version": 3
   },
   "file_extension": ".py",
   "mimetype": "text/x-python",
   "name": "python",
   "nbconvert_exporter": "python",
   "pygments_lexer": "ipython3",
   "version": "3.9.7"
  }
 },
 "nbformat": 4,
 "nbformat_minor": 5
}
