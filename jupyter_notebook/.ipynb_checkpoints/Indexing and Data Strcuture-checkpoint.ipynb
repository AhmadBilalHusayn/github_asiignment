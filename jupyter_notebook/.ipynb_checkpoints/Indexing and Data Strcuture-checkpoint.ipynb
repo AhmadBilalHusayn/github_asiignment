{
 "cells": [
  {
   "cell_type": "markdown",
   "id": "dbdb66fe",
   "metadata": {},
   "source": [
    "# Indexing"
   ]
  },
  {
   "cell_type": "code",
   "execution_count": 3,
   "id": "1f9b9e52",
   "metadata": {},
   "outputs": [
    {
     "data": {
      "text/plain": [
       "'Samosa Pakora'"
      ]
     },
     "execution_count": 3,
     "metadata": {},
     "output_type": "execute_result"
    }
   ],
   "source": [
    "a = \"Samosa Pakora\"\n",
    "a"
   ]
  },
  {
   "cell_type": "code",
   "execution_count": 4,
   "id": "abe4ac57",
   "metadata": {},
   "outputs": [
    {
     "data": {
      "text/plain": [
       "13"
      ]
     },
     "execution_count": 4,
     "metadata": {},
     "output_type": "execute_result"
    }
   ],
   "source": [
    "len(a)"
   ]
  },
  {
   "cell_type": "code",
   "execution_count": 6,
   "id": "a9b8e658",
   "metadata": {},
   "outputs": [
    {
     "data": {
      "text/plain": [
       "'Samosa'"
      ]
     },
     "execution_count": 6,
     "metadata": {},
     "output_type": "execute_result"
    }
   ],
   "source": [
    "#last index is exclusive\n",
    "a[0:6]"
   ]
  },
  {
   "cell_type": "code",
   "execution_count": 11,
   "id": "6ad4c009",
   "metadata": {},
   "outputs": [
    {
     "data": {
      "text/plain": [
       "' Pakora'"
      ]
     },
     "execution_count": 11,
     "metadata": {},
     "output_type": "execute_result"
    }
   ],
   "source": [
    "a[-7:13]"
   ]
  },
  {
   "cell_type": "markdown",
   "id": "085df1f6",
   "metadata": {},
   "source": [
    "# Strings method"
   ]
  },
  {
   "cell_type": "code",
   "execution_count": 16,
   "id": "0b36bd14",
   "metadata": {},
   "outputs": [
    {
     "data": {
      "text/plain": [
       "'biryani'"
      ]
     },
     "execution_count": 16,
     "metadata": {},
     "output_type": "execute_result"
    }
   ],
   "source": [
    "food = \"biryani\"\n",
    "food"
   ]
  },
  {
   "cell_type": "code",
   "execution_count": 20,
   "id": "f97c0f9f",
   "metadata": {},
   "outputs": [
    {
     "data": {
      "text/plain": [
       "7"
      ]
     },
     "execution_count": 20,
     "metadata": {},
     "output_type": "execute_result"
    }
   ],
   "source": [
    "len(food)"
   ]
  },
  {
   "cell_type": "code",
   "execution_count": 17,
   "id": "9b99196e",
   "metadata": {},
   "outputs": [
    {
     "data": {
      "text/plain": [
       "'Biryani'"
      ]
     },
     "execution_count": 17,
     "metadata": {},
     "output_type": "execute_result"
    }
   ],
   "source": [
    "#capitalize every element\n",
    "food.capitalize()"
   ]
  },
  {
   "cell_type": "code",
   "execution_count": 14,
   "id": "77256970",
   "metadata": {},
   "outputs": [
    {
     "data": {
      "text/plain": [
       "'BIRYANI'"
      ]
     },
     "execution_count": 14,
     "metadata": {},
     "output_type": "execute_result"
    }
   ],
   "source": [
    "#uppercase lettes\n",
    "food.upper()"
   ]
  },
  {
   "cell_type": "code",
   "execution_count": 24,
   "id": "1ae3f0b5",
   "metadata": {},
   "outputs": [
    {
     "data": {
      "text/plain": [
       "'Shiryani'"
      ]
     },
     "execution_count": 24,
     "metadata": {},
     "output_type": "execute_result"
    }
   ],
   "source": [
    "#replace\n",
    "food.replace(\"b\", \"Sh\")"
   ]
  },
  {
   "cell_type": "code",
   "execution_count": 27,
   "id": "b9c9102d",
   "metadata": {},
   "outputs": [
    {
     "data": {
      "text/plain": [
       "8"
      ]
     },
     "execution_count": 27,
     "metadata": {},
     "output_type": "execute_result"
    }
   ],
   "source": [
    "#counting a specific alphabet in a string\n",
    "name = \"baba_aammar with Dr Aammar Tufail\"\n",
    "name.count(\"a\")"
   ]
  },
  {
   "cell_type": "markdown",
   "id": "0cea9433",
   "metadata": {},
   "source": [
    "### finding a index number in a string"
   ]
  },
  {
   "cell_type": "code",
   "execution_count": 28,
   "id": "d9c726d2",
   "metadata": {},
   "outputs": [
    {
     "data": {
      "text/plain": [
       "'baba_aammar with Dr Aammar Tufail'"
      ]
     },
     "execution_count": 28,
     "metadata": {},
     "output_type": "execute_result"
    }
   ],
   "source": [
    "name = \"baba_aammar with Dr Aammar Tufail\"\n",
    "name"
   ]
  },
  {
   "cell_type": "code",
   "execution_count": 30,
   "id": "65d567d7",
   "metadata": {},
   "outputs": [
    {
     "data": {
      "text/plain": [
       "27"
      ]
     },
     "execution_count": 30,
     "metadata": {},
     "output_type": "execute_result"
    }
   ],
   "source": [
    "name.find(\"T\")"
   ]
  },
  {
   "cell_type": "markdown",
   "id": "8a7536fa",
   "metadata": {},
   "source": [
    "### How to split a string"
   ]
  },
  {
   "cell_type": "code",
   "execution_count": 31,
   "id": "ae98a459",
   "metadata": {},
   "outputs": [
    {
     "data": {
      "text/plain": [
       "'I love somosa, pakora, raita, biryani and karahi'"
      ]
     },
     "execution_count": 31,
     "metadata": {},
     "output_type": "execute_result"
    }
   ],
   "source": [
    "food = \"I love somosa, pakora, raita, biryani and karahi\"\n",
    "food"
   ]
  },
  {
   "cell_type": "code",
   "execution_count": 32,
   "id": "dd33b419",
   "metadata": {},
   "outputs": [
    {
     "data": {
      "text/plain": [
       "['I love somosa', ' pakora', ' raita', ' biryani and karahi']"
      ]
     },
     "execution_count": 32,
     "metadata": {},
     "output_type": "execute_result"
    }
   ],
   "source": [
    "food.split(\",\")"
   ]
  },
  {
   "cell_type": "markdown",
   "id": "8a5e520d",
   "metadata": {},
   "source": [
    "### Basic Data structure in Python\n",
    "\n",
    "1-Tuple  \n",
    "2-List   \n",
    "3-Dictionaries   \n",
    "4-Set  \n"
   ]
  },
  {
   "cell_type": "markdown",
   "id": "40c24f5e",
   "metadata": {},
   "source": [
    "## 1-Tuple\n",
    " - ordered collection of elements\n",
    " - enclosed in () round braces/parenthesis\n",
    " - Different kind of element can be started\n",
    " - Once element are stored you can not changed them(immutable"
   ]
  },
  {
   "cell_type": "code",
   "execution_count": 3,
   "id": "4e445bfe",
   "metadata": {},
   "outputs": [
    {
     "data": {
      "text/plain": [
       "(1, 'python', True, 2.5)"
      ]
     },
     "execution_count": 3,
     "metadata": {},
     "output_type": "execute_result"
    }
   ],
   "source": [
    "tup1 = (1, \"python\", True , 2.5)\n",
    "tup1"
   ]
  },
  {
   "cell_type": "code",
   "execution_count": 4,
   "id": "daf60f59",
   "metadata": {},
   "outputs": [
    {
     "data": {
      "text/plain": [
       "tuple"
      ]
     },
     "execution_count": 4,
     "metadata": {},
     "output_type": "execute_result"
    }
   ],
   "source": [
    "#type of a tuple\n",
    "type(tup1)"
   ]
  },
  {
   "cell_type": "markdown",
   "id": "293238fc",
   "metadata": {},
   "source": [
    "### - Indexing in tuple"
   ]
  },
  {
   "cell_type": "code",
   "execution_count": 5,
   "id": "8501e4d2",
   "metadata": {},
   "outputs": [
    {
     "data": {
      "text/plain": [
       "'python'"
      ]
     },
     "execution_count": 5,
     "metadata": {},
     "output_type": "execute_result"
    }
   ],
   "source": [
    "tup1[1]"
   ]
  },
  {
   "cell_type": "code",
   "execution_count": 8,
   "id": "4819136c",
   "metadata": {},
   "outputs": [
    {
     "data": {
      "text/plain": [
       "(1, 'python', True, 2.5)"
      ]
     },
     "execution_count": 8,
     "metadata": {},
     "output_type": "execute_result"
    }
   ],
   "source": [
    "tup1[0:4]"
   ]
  },
  {
   "cell_type": "code",
   "execution_count": 9,
   "id": "f4895db9",
   "metadata": {},
   "outputs": [
    {
     "data": {
      "text/plain": [
       "4"
      ]
     },
     "execution_count": 9,
     "metadata": {},
     "output_type": "execute_result"
    }
   ],
   "source": [
    "len(tup1)"
   ]
  },
  {
   "cell_type": "code",
   "execution_count": 12,
   "id": "bf5eea4e",
   "metadata": {},
   "outputs": [
    {
     "data": {
      "text/plain": [
       "(2, 'baba aammar', 3.5, False)"
      ]
     },
     "execution_count": 12,
     "metadata": {},
     "output_type": "execute_result"
    }
   ],
   "source": [
    "tup2 = (2,\"baba aammar\", 3.5 , False) \n",
    "tup2"
   ]
  },
  {
   "cell_type": "code",
   "execution_count": 14,
   "id": "7530a842",
   "metadata": {},
   "outputs": [
    {
     "data": {
      "text/plain": [
       "(1, 'python', True, 2.5, 2, 'baba aammar', 3.5, False)"
      ]
     },
     "execution_count": 14,
     "metadata": {},
     "output_type": "execute_result"
    }
   ],
   "source": [
    "#concatenate\n",
    "tup1 + tup2"
   ]
  },
  {
   "cell_type": "code",
   "execution_count": 17,
   "id": "1d055a2f",
   "metadata": {},
   "outputs": [
    {
     "data": {
      "text/plain": [
       "(1, 'python', True, 2.5, 1, 'python', True, 2.5, 2, 'baba aammar', 3.5, False)"
      ]
     },
     "execution_count": 17,
     "metadata": {},
     "output_type": "execute_result"
    }
   ],
   "source": [
    "#concatenate + repeat\n",
    "tup1*2 + tup2"
   ]
  },
  {
   "cell_type": "code",
   "execution_count": 18,
   "id": "210869b0",
   "metadata": {},
   "outputs": [
    {
     "data": {
      "text/plain": [
       "20"
      ]
     },
     "execution_count": 18,
     "metadata": {},
     "output_type": "execute_result"
    }
   ],
   "source": [
    "tup3 = (20,50,30,60,79,85)\n",
    "min(tup3)"
   ]
  },
  {
   "cell_type": "code",
   "execution_count": 20,
   "id": "f091aa6b",
   "metadata": {},
   "outputs": [
    {
     "data": {
      "text/plain": [
       "85"
      ]
     },
     "execution_count": 20,
     "metadata": {},
     "output_type": "execute_result"
    }
   ],
   "source": [
    "max(tup3)"
   ]
  },
  {
   "cell_type": "markdown",
   "id": "908f836b",
   "metadata": {},
   "source": [
    "---"
   ]
  },
  {
   "cell_type": "markdown",
   "id": "0587fb31",
   "metadata": {},
   "source": [
    "## 2- List\n",
    " - oredered collection of elements\n",
    " - enclosed in [] Square braces/bracket\n",
    " - Mutable, you can change the values"
   ]
  },
  {
   "cell_type": "code",
   "execution_count": 35,
   "id": "e1bc5a85",
   "metadata": {},
   "outputs": [
    {
     "data": {
      "text/plain": [
       "[2, 'baba aammaar', False]"
      ]
     },
     "execution_count": 35,
     "metadata": {},
     "output_type": "execute_result"
    }
   ],
   "source": [
    "list1 = [2, \"baba aammaar\" , False]\n",
    "list1"
   ]
  },
  {
   "cell_type": "code",
   "execution_count": 22,
   "id": "c352a823",
   "metadata": {},
   "outputs": [
    {
     "data": {
      "text/plain": [
       "list"
      ]
     },
     "execution_count": 22,
     "metadata": {},
     "output_type": "execute_result"
    }
   ],
   "source": [
    "type(list1)"
   ]
  },
  {
   "cell_type": "code",
   "execution_count": 23,
   "id": "9ed9622c",
   "metadata": {},
   "outputs": [
    {
     "data": {
      "text/plain": [
       "3"
      ]
     },
     "execution_count": 23,
     "metadata": {},
     "output_type": "execute_result"
    }
   ],
   "source": [
    "len(list1)"
   ]
  },
  {
   "cell_type": "code",
   "execution_count": 25,
   "id": "5401a244",
   "metadata": {},
   "outputs": [
    {
     "data": {
      "text/plain": [
       "False"
      ]
     },
     "execution_count": 25,
     "metadata": {},
     "output_type": "execute_result"
    }
   ],
   "source": [
    "list1[2]"
   ]
  },
  {
   "cell_type": "code",
   "execution_count": 26,
   "id": "f9234e10",
   "metadata": {},
   "outputs": [
    {
     "data": {
      "text/plain": [
       "[3, 5, 'Aammar', 'Codanis', 470, 53.2, False]"
      ]
     },
     "execution_count": 26,
     "metadata": {},
     "output_type": "execute_result"
    }
   ],
   "source": [
    "list2 = [3,5,\"Aammar\",\"Codanis\",470,53.2,False]\n",
    "list2"
   ]
  },
  {
   "cell_type": "code",
   "execution_count": 27,
   "id": "2f176a2b",
   "metadata": {},
   "outputs": [
    {
     "data": {
      "text/plain": [
       "[2, 'baba aammaar', False, 3, 5, 'Aammar', 'Codanis', 470, 53.2, False]"
      ]
     },
     "execution_count": 27,
     "metadata": {},
     "output_type": "execute_result"
    }
   ],
   "source": [
    "list1 + list2"
   ]
  },
  {
   "cell_type": "code",
   "execution_count": 33,
   "id": "756a3fdb",
   "metadata": {},
   "outputs": [
    {
     "data": {
      "text/plain": [
       "[False, 'baba aammaar', 2, False, 'baba aammaar', 2]"
      ]
     },
     "execution_count": 33,
     "metadata": {},
     "output_type": "execute_result"
    }
   ],
   "source": [
    "list1*2"
   ]
  },
  {
   "cell_type": "code",
   "execution_count": 38,
   "id": "545490e9",
   "metadata": {},
   "outputs": [
    {
     "data": {
      "text/plain": [
       "[False, 'baba aammaar', 2]"
      ]
     },
     "execution_count": 38,
     "metadata": {},
     "output_type": "execute_result"
    }
   ],
   "source": [
    "list1.reverse()\n",
    "list1"
   ]
  },
  {
   "cell_type": "code",
   "execution_count": 42,
   "id": "46e6d4c6",
   "metadata": {},
   "outputs": [],
   "source": [
    "list1.append(\"Codanics Youtube Channel\")"
   ]
  },
  {
   "cell_type": "code",
   "execution_count": 43,
   "id": "b4e2db0e",
   "metadata": {},
   "outputs": [
    {
     "data": {
      "text/plain": [
       "[False,\n",
       " 'baba aammaar',\n",
       " 2,\n",
       " 'Codanics Youtube Channel',\n",
       " 'Codanics Youtube Channel']"
      ]
     },
     "execution_count": 43,
     "metadata": {},
     "output_type": "execute_result"
    }
   ],
   "source": [
    "list1"
   ]
  },
  {
   "cell_type": "code",
   "execution_count": 59,
   "id": "4f9a6953",
   "metadata": {},
   "outputs": [
    {
     "data": {
      "text/plain": [
       "[20, 30, 35, 50, 40, 12, 15, 13, 10, 356, 56, 836]"
      ]
     },
     "execution_count": 59,
     "metadata": {},
     "output_type": "execute_result"
    }
   ],
   "source": [
    "list3 = [20,30,35,50,40,12,15,13,10,356,56,836]\n",
    "list3"
   ]
  },
  {
   "cell_type": "code",
   "execution_count": 60,
   "id": "b8f11291",
   "metadata": {},
   "outputs": [
    {
     "data": {
      "text/plain": [
       "12"
      ]
     },
     "execution_count": 60,
     "metadata": {},
     "output_type": "execute_result"
    }
   ],
   "source": [
    "len(list3)"
   ]
  },
  {
   "cell_type": "code",
   "execution_count": 61,
   "id": "974e1c17",
   "metadata": {},
   "outputs": [],
   "source": [
    "list3.sort()"
   ]
  },
  {
   "cell_type": "code",
   "execution_count": 62,
   "id": "f051300d",
   "metadata": {},
   "outputs": [
    {
     "data": {
      "text/plain": [
       "[10, 12, 13, 15, 20, 30, 35, 40, 50, 56, 356, 836]"
      ]
     },
     "execution_count": 62,
     "metadata": {},
     "output_type": "execute_result"
    }
   ],
   "source": [
    "list3"
   ]
  },
  {
   "cell_type": "code",
   "execution_count": 64,
   "id": "bc7d39ae",
   "metadata": {},
   "outputs": [
    {
     "data": {
      "text/plain": [
       "[10,\n",
       " 12,\n",
       " 13,\n",
       " 15,\n",
       " 20,\n",
       " 30,\n",
       " 35,\n",
       " 40,\n",
       " 50,\n",
       " 56,\n",
       " 356,\n",
       " 836,\n",
       " 10,\n",
       " 12,\n",
       " 13,\n",
       " 15,\n",
       " 20,\n",
       " 30,\n",
       " 35,\n",
       " 40,\n",
       " 50,\n",
       " 56,\n",
       " 356,\n",
       " 836]"
      ]
     },
     "execution_count": 64,
     "metadata": {},
     "output_type": "execute_result"
    }
   ],
   "source": [
    "list3*2"
   ]
  },
  {
   "cell_type": "code",
   "execution_count": 66,
   "id": "08f552a5",
   "metadata": {},
   "outputs": [],
   "source": [
    "lists = list1 + list2"
   ]
  },
  {
   "cell_type": "code",
   "execution_count": 67,
   "id": "1c1820cf",
   "metadata": {},
   "outputs": [
    {
     "data": {
      "text/plain": [
       "[False,\n",
       " 'baba aammaar',\n",
       " 2,\n",
       " 'Codanics Youtube Channel',\n",
       " 'Codanics Youtube Channel',\n",
       " 3,\n",
       " 5,\n",
       " 'Aammar',\n",
       " 'Codanis',\n",
       " 470,\n",
       " 53.2,\n",
       " False]"
      ]
     },
     "execution_count": 67,
     "metadata": {},
     "output_type": "execute_result"
    }
   ],
   "source": [
    "lists"
   ]
  },
  {
   "cell_type": "markdown",
   "id": "6209263e",
   "metadata": {},
   "source": [
    "## 3-Dictionaries\n",
    " - An unordered collection of elements\n",
    " - key and value\n",
    " - curly braces/bracket {}\n",
    " - Mutatable/changes the values"
   ]
  },
  {
   "cell_type": "code",
   "execution_count": 70,
   "id": "ec82a9f4",
   "metadata": {},
   "outputs": [
    {
     "data": {
      "text/plain": [
       "{'Samosa': 30, 'Pakory': 100, 'Raita': 20, 'Salad': 50, 'Chicken Roles': 30}"
      ]
     },
     "execution_count": 70,
     "metadata": {},
     "output_type": "execute_result"
    }
   ],
   "source": [
    "#Food and their prices\n",
    "food1 = {\"Samosa\":30,\"Pakory\":100,\"Raita\":20,\"Salad\":50,\"Chicken Roles\":30}\n",
    "food1"
   ]
  },
  {
   "cell_type": "code",
   "execution_count": 71,
   "id": "08be5fe8",
   "metadata": {},
   "outputs": [
    {
     "data": {
      "text/plain": [
       "dict"
      ]
     },
     "execution_count": 71,
     "metadata": {},
     "output_type": "execute_result"
    }
   ],
   "source": [
    "type(food1)"
   ]
  },
  {
   "cell_type": "code",
   "execution_count": 73,
   "id": "6b3cf98f",
   "metadata": {},
   "outputs": [
    {
     "data": {
      "text/plain": [
       "dict_keys(['Samosa', 'Pakory', 'Raita', 'Salad', 'Chicken Roles'])"
      ]
     },
     "execution_count": 73,
     "metadata": {},
     "output_type": "execute_result"
    }
   ],
   "source": [
    "#exract data\n",
    "keys1 = food1.keys()\n",
    "keys1"
   ]
  },
  {
   "cell_type": "code",
   "execution_count": 74,
   "id": "357ce907",
   "metadata": {},
   "outputs": [
    {
     "data": {
      "text/plain": [
       "dict_values([30, 100, 20, 50, 30])"
      ]
     },
     "execution_count": 74,
     "metadata": {},
     "output_type": "execute_result"
    }
   ],
   "source": [
    "values = food1.values()\n",
    "values"
   ]
  },
  {
   "cell_type": "code",
   "execution_count": 76,
   "id": "3be6b7cd",
   "metadata": {},
   "outputs": [],
   "source": [
    "#adding new element\n",
    "food1[\"tikki\"]=10"
   ]
  },
  {
   "cell_type": "code",
   "execution_count": 77,
   "id": "8b9db7e5",
   "metadata": {},
   "outputs": [
    {
     "data": {
      "text/plain": [
       "{'Samosa': 30,\n",
       " 'Pakory': 100,\n",
       " 'Raita': 20,\n",
       " 'Salad': 50,\n",
       " 'Chicken Roles': 30,\n",
       " 'tikki': 10}"
      ]
     },
     "execution_count": 77,
     "metadata": {},
     "output_type": "execute_result"
    }
   ],
   "source": [
    "food1"
   ]
  },
  {
   "cell_type": "code",
   "execution_count": 78,
   "id": "4fda5624",
   "metadata": {},
   "outputs": [
    {
     "data": {
      "text/plain": [
       "{'Samosa': 30,\n",
       " 'Pakory': 100,\n",
       " 'Raita': 20,\n",
       " 'Salad': 50,\n",
       " 'Chicken Roles': 30,\n",
       " 'tikki': 15}"
      ]
     },
     "execution_count": 78,
     "metadata": {},
     "output_type": "execute_result"
    }
   ],
   "source": [
    "# update the values\n",
    "food1[\"tikki\"]=15\n",
    "food1"
   ]
  },
  {
   "cell_type": "code",
   "execution_count": 79,
   "id": "6d2e7e6a",
   "metadata": {},
   "outputs": [
    {
     "data": {
      "text/plain": [
       "{'Dates': 50, 'Chocolates': 200, 'Sawayyan': 1000}"
      ]
     },
     "execution_count": 79,
     "metadata": {},
     "output_type": "execute_result"
    }
   ],
   "source": [
    "food2 = {\"Dates\":50,\"Chocolates\":200,\"Sawayyan\":1000}\n",
    "food2"
   ]
  },
  {
   "cell_type": "code",
   "execution_count": 81,
   "id": "d9566fec",
   "metadata": {},
   "outputs": [],
   "source": [
    "#concatenate\n",
    "food1.update(food2)"
   ]
  },
  {
   "cell_type": "code",
   "execution_count": 82,
   "id": "f6a6a2ad",
   "metadata": {},
   "outputs": [
    {
     "data": {
      "text/plain": [
       "{'Samosa': 30,\n",
       " 'Pakory': 100,\n",
       " 'Raita': 20,\n",
       " 'Salad': 50,\n",
       " 'Chicken Roles': 30,\n",
       " 'tikki': 15,\n",
       " 'Dates': 50,\n",
       " 'Chocolates': 200,\n",
       " 'Sawayyan': 1000}"
      ]
     },
     "execution_count": 82,
     "metadata": {},
     "output_type": "execute_result"
    }
   ],
   "source": [
    "food1"
   ]
  },
  {
   "cell_type": "markdown",
   "id": "a9e4bdba",
   "metadata": {},
   "source": [
    "## 4-Set\n",
    " - Unordered and unindexed\n",
    " - curly braces/bracket{}\n",
    " - No duplicates allowed"
   ]
  },
  {
   "cell_type": "code",
   "execution_count": 84,
   "id": "23491f08",
   "metadata": {},
   "outputs": [
    {
     "data": {
      "text/plain": [
       "{1, 2.1, 3, 5.2, 'Aammar', 'Codanics', 'Faisalabad'}"
      ]
     },
     "execution_count": 84,
     "metadata": {},
     "output_type": "execute_result"
    }
   ],
   "source": [
    "s1 = {1,2.1,3,5.2,\"Aammar\",\"Codanics\",\"Faisalabad\",True}\n",
    "s1"
   ]
  },
  {
   "cell_type": "code",
   "execution_count": 85,
   "id": "88463a66",
   "metadata": {},
   "outputs": [
    {
     "data": {
      "text/plain": [
       "set"
      ]
     },
     "execution_count": 85,
     "metadata": {},
     "output_type": "execute_result"
    }
   ],
   "source": [
    "type(s1)"
   ]
  },
  {
   "cell_type": "code",
   "execution_count": 88,
   "id": "061b6695",
   "metadata": {},
   "outputs": [],
   "source": [
    "s1.add(\"Aammar1\")"
   ]
  },
  {
   "cell_type": "code",
   "execution_count": 89,
   "id": "2cd5d891",
   "metadata": {},
   "outputs": [
    {
     "data": {
      "text/plain": [
       "{1, 2.1, 3, 5.2, 'Aammar', 'Aammar1', 'Codanics', 'Faisalabad'}"
      ]
     },
     "execution_count": 89,
     "metadata": {},
     "output_type": "execute_result"
    }
   ],
   "source": [
    "#Duplucates and Boolean values not run in sets\n",
    "s1"
   ]
  },
  {
   "cell_type": "code",
   "execution_count": 90,
   "id": "330fe1ec",
   "metadata": {},
   "outputs": [],
   "source": [
    "s1.remove(\"Aammar1\")"
   ]
  },
  {
   "cell_type": "code",
   "execution_count": 91,
   "id": "731c2cf5",
   "metadata": {},
   "outputs": [
    {
     "data": {
      "text/plain": [
       "{1, 2.1, 3, 5.2, 'Aammar', 'Codanics', 'Faisalabad'}"
      ]
     },
     "execution_count": 91,
     "metadata": {},
     "output_type": "execute_result"
    }
   ],
   "source": [
    "s1"
   ]
  },
  {
   "cell_type": "code",
   "execution_count": 95,
   "id": "0c311246",
   "metadata": {},
   "outputs": [],
   "source": [
    "s1.clear()"
   ]
  },
  {
   "cell_type": "code",
   "execution_count": null,
   "id": "0d20177d",
   "metadata": {},
   "outputs": [],
   "source": []
  }
 ],
 "metadata": {
  "kernelspec": {
   "display_name": "Python 3 (ipykernel)",
   "language": "python",
   "name": "python3"
  },
  "language_info": {
   "codemirror_mode": {
    "name": "ipython",
    "version": 3
   },
   "file_extension": ".py",
   "mimetype": "text/x-python",
   "name": "python",
   "nbconvert_exporter": "python",
   "pygments_lexer": "ipython3",
   "version": "3.9.7"
  }
 },
 "nbformat": 4,
 "nbformat_minor": 5
}
